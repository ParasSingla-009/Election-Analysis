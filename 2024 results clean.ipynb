{
 "cells": [
  {
   "cell_type": "code",
   "execution_count": 1,
   "id": "16b1f9a9",
   "metadata": {},
   "outputs": [],
   "source": [
    "import numpy as np\n",
    "import pandas as pd\n",
    "import seaborn as sns\n",
    "import matplotlib.pyplot as plt"
   ]
  },
  {
   "cell_type": "code",
   "execution_count": 2,
   "id": "5522651d",
   "metadata": {},
   "outputs": [],
   "source": [
    "%matplotlib inline"
   ]
  },
  {
   "cell_type": "code",
   "execution_count": 3,
   "id": "2392bdbd",
   "metadata": {},
   "outputs": [],
   "source": [
    "results = pd.read_excel('Smjvadi.xlsx', sheet_name='2024 results')"
   ]
  },
  {
   "cell_type": "code",
   "execution_count": 4,
   "id": "47002767",
   "metadata": {},
   "outputs": [
    {
     "data": {
      "text/html": [
       "<div>\n",
       "<style scoped>\n",
       "    .dataframe tbody tr th:only-of-type {\n",
       "        vertical-align: middle;\n",
       "    }\n",
       "\n",
       "    .dataframe tbody tr th {\n",
       "        vertical-align: top;\n",
       "    }\n",
       "\n",
       "    .dataframe thead th {\n",
       "        text-align: right;\n",
       "    }\n",
       "</style>\n",
       "<table border=\"1\" class=\"dataframe\">\n",
       "  <thead>\n",
       "    <tr style=\"text-align: right;\">\n",
       "      <th></th>\n",
       "      <th>Column1</th>\n",
       "      <th>State/UT</th>\n",
       "      <th>Parliamentary Constituency</th>\n",
       "      <th>Party Name</th>\n",
       "      <th>Winning Candidate</th>\n",
       "      <th>Total Votes</th>\n",
       "      <th>Margin</th>\n",
       "    </tr>\n",
       "  </thead>\n",
       "  <tbody>\n",
       "    <tr>\n",
       "      <th>0</th>\n",
       "      <td>1</td>\n",
       "      <td>Andaman &amp; Nicobar Islands</td>\n",
       "      <td>Andaman &amp; Nicobar Islands(1)</td>\n",
       "      <td>Bharatiya Janata Party(BJP)</td>\n",
       "      <td>BISHNU PADA RAY</td>\n",
       "      <td>102436</td>\n",
       "      <td>24396</td>\n",
       "    </tr>\n",
       "    <tr>\n",
       "      <th>1</th>\n",
       "      <td>2</td>\n",
       "      <td>Andhra Pradesh</td>\n",
       "      <td>Amalapuram (SC)(7)</td>\n",
       "      <td>Telugu Desam - TDP</td>\n",
       "      <td>G M HARISH (BALAYOGI)</td>\n",
       "      <td>796981</td>\n",
       "      <td>342196</td>\n",
       "    </tr>\n",
       "    <tr>\n",
       "      <th>2</th>\n",
       "      <td>3</td>\n",
       "      <td>Andhra Pradesh</td>\n",
       "      <td>Anakapalle(5)</td>\n",
       "      <td>Bharatiya Janata Party(BJP)</td>\n",
       "      <td>C.M.RAMESH</td>\n",
       "      <td>762069</td>\n",
       "      <td>296530</td>\n",
       "    </tr>\n",
       "    <tr>\n",
       "      <th>3</th>\n",
       "      <td>4</td>\n",
       "      <td>Andhra Pradesh</td>\n",
       "      <td>Ananthapur(19)</td>\n",
       "      <td>Telugu Desam - TDP</td>\n",
       "      <td>AMBICA G LAKSHMINARAYANA VALMIKI</td>\n",
       "      <td>768245</td>\n",
       "      <td>188555</td>\n",
       "    </tr>\n",
       "    <tr>\n",
       "      <th>4</th>\n",
       "      <td>5</td>\n",
       "      <td>Andhra Pradesh</td>\n",
       "      <td>Araku (ST)(1)</td>\n",
       "      <td>Yuvajana Sramika Rythu Congress Party - YSRCP</td>\n",
       "      <td>GUMMA THANUJA RANI</td>\n",
       "      <td>477005</td>\n",
       "      <td>50580</td>\n",
       "    </tr>\n",
       "  </tbody>\n",
       "</table>\n",
       "</div>"
      ],
      "text/plain": [
       "   Column1                   State/UT    Parliamentary Constituency  \\\n",
       "0        1  Andaman & Nicobar Islands  Andaman & Nicobar Islands(1)   \n",
       "1        2             Andhra Pradesh            Amalapuram (SC)(7)   \n",
       "2        3             Andhra Pradesh                 Anakapalle(5)   \n",
       "3        4             Andhra Pradesh                Ananthapur(19)   \n",
       "4        5             Andhra Pradesh                 Araku (ST)(1)   \n",
       "\n",
       "                                      Party Name  \\\n",
       "0                    Bharatiya Janata Party(BJP)   \n",
       "1                             Telugu Desam - TDP   \n",
       "2                    Bharatiya Janata Party(BJP)   \n",
       "3                             Telugu Desam - TDP   \n",
       "4  Yuvajana Sramika Rythu Congress Party - YSRCP   \n",
       "\n",
       "                  Winning Candidate Total Votes  Margin  \n",
       "0                   BISHNU PADA RAY      102436   24396  \n",
       "1             G M HARISH (BALAYOGI)      796981  342196  \n",
       "2                        C.M.RAMESH      762069  296530  \n",
       "3  AMBICA G LAKSHMINARAYANA VALMIKI      768245  188555  \n",
       "4                GUMMA THANUJA RANI      477005   50580  "
      ]
     },
     "execution_count": 4,
     "metadata": {},
     "output_type": "execute_result"
    }
   ],
   "source": [
    "results.head()"
   ]
  },
  {
   "cell_type": "code",
   "execution_count": 5,
   "id": "52f6044b",
   "metadata": {},
   "outputs": [
    {
     "name": "stdout",
     "output_type": "stream",
     "text": [
      "<class 'pandas.core.frame.DataFrame'>\n",
      "RangeIndex: 543 entries, 0 to 542\n",
      "Data columns (total 7 columns):\n",
      " #   Column                      Non-Null Count  Dtype \n",
      "---  ------                      --------------  ----- \n",
      " 0   Column1                     543 non-null    int64 \n",
      " 1   State/UT                    543 non-null    object\n",
      " 2   Parliamentary Constituency  543 non-null    object\n",
      " 3   Party Name                  543 non-null    object\n",
      " 4   Winning Candidate           543 non-null    object\n",
      " 5   Total Votes                 543 non-null    object\n",
      " 6   Margin                      543 non-null    object\n",
      "dtypes: int64(1), object(6)\n",
      "memory usage: 29.8+ KB\n"
     ]
    }
   ],
   "source": [
    "results.info()"
   ]
  },
  {
   "cell_type": "code",
   "execution_count": 6,
   "id": "482648bc",
   "metadata": {},
   "outputs": [
    {
     "name": "stdout",
     "output_type": "stream",
     "text": [
      "Total no of Records(Rows) in the dataset543\n",
      "Total no of Records(Columns) in the dataset7\n"
     ]
    }
   ],
   "source": [
    "print(\"Total no of Records(Rows) in the dataset{}\".format(results.shape[0]))\n",
    "print(\"Total no of Records(Columns) in the dataset{}\".format(results.shape[1]))"
   ]
  },
  {
   "cell_type": "code",
   "execution_count": 8,
   "id": "6fc3b4da",
   "metadata": {},
   "outputs": [
    {
     "name": "stdout",
     "output_type": "stream",
     "text": [
      "The number of numeric columns\n",
      "['Column1']\n",
      "The number of non numeric columns\n",
      "['State/UT' 'Parliamentary Constituency' 'Party Name' 'Winning Candidate'\n",
      " 'Total Votes' 'Margin']\n"
     ]
    }
   ],
   "source": [
    "df_numeric = results.select_dtypes(include=[np.number])\n",
    "numeric_col = df_numeric.columns.values\n",
    "print('The number of numeric columns')\n",
    "print(numeric_col)\n",
    "\n",
    "df_numeric = results.select_dtypes(exclude=[np.number])\n",
    "non_numeric_col = df_numeric.columns.values\n",
    "print('The number of non numeric columns')\n",
    "print(non_numeric_col)"
   ]
  },
  {
   "cell_type": "code",
   "execution_count": 9,
   "id": "85d5bb11",
   "metadata": {},
   "outputs": [
    {
     "data": {
      "text/plain": [
       "Column1                       0\n",
       "State/UT                      0\n",
       "Parliamentary Constituency    0\n",
       "Party Name                    0\n",
       "Winning Candidate             0\n",
       "Total Votes                   0\n",
       "Margin                        0\n",
       "dtype: int64"
      ]
     },
     "execution_count": 9,
     "metadata": {},
     "output_type": "execute_result"
    }
   ],
   "source": [
    "results.isnull().sum()"
   ]
  },
  {
   "cell_type": "code",
   "execution_count": 10,
   "id": "8ba2d02e",
   "metadata": {},
   "outputs": [
    {
     "data": {
      "text/plain": [
       "Column1                       0.0\n",
       "State/UT                      0.0\n",
       "Parliamentary Constituency    0.0\n",
       "Party Name                    0.0\n",
       "Winning Candidate             0.0\n",
       "Total Votes                   0.0\n",
       "Margin                        0.0\n",
       "dtype: float64"
      ]
     },
     "execution_count": 10,
     "metadata": {},
     "output_type": "execute_result"
    }
   ],
   "source": [
    "results.isnull().mean()*100"
   ]
  },
  {
   "cell_type": "code",
   "execution_count": 13,
   "id": "2a1ef4ea",
   "metadata": {},
   "outputs": [
    {
     "data": {
      "text/plain": [
       "State/UT\n",
       "Uttar Pradesh                80\n",
       "Maharathra                   48\n",
       "West Bengal                  42\n",
       "Bihar                        40\n",
       "TamilNadu                    39\n",
       "Madhya Pradesh               29\n",
       "Karnataka                    28\n",
       "Gujarat                      26\n",
       "Rajasthan                    25\n",
       "Andhra Pradesh               25\n",
       "Odisha                       21\n",
       "Kerla                        18\n",
       "Telangana                    17\n",
       "Jharkhand                    14\n",
       "Assam                        14\n",
       "Punjab                       13\n",
       "Chattisgarh                  11\n",
       "Haryana                      10\n",
       "New Delhi                     7\n",
       "Jammu & Kashmir               6\n",
       "Uttrakhand                    5\n",
       "Himachal Pradesh              4\n",
       "kerla                         2\n",
       "Goa                           2\n",
       "Tripura                       2\n",
       "Manipur                       2\n",
       "Meghalaya                     2\n",
       "Arunachal Pradesh             2\n",
       "Sikkim                        1\n",
       "Andaman & Nicobar Islands     1\n",
       "Pudducherry                   1\n",
       "Nagaland                      1\n",
       "Mizoram                       1\n",
       "Daman & Diu                   1\n",
       "Dadra & Nagar Haveli          1\n",
       "Chandigarh                    1\n",
       "Lakshadweep                   1\n",
       "Name: count, dtype: int64"
      ]
     },
     "execution_count": 13,
     "metadata": {},
     "output_type": "execute_result"
    }
   ],
   "source": [
    "results['State/UT'].value_counts()"
   ]
  },
  {
   "cell_type": "code",
   "execution_count": 14,
   "id": "bbe26834",
   "metadata": {},
   "outputs": [
    {
     "data": {
      "text/plain": [
       "Party Name\n",
       "Bharatiya Janata Party(BJP)                                              240\n",
       "Indian National Congress (INC)                                            99\n",
       "Samajwadi Party                                                           37\n",
       "All India Trinamool Congress                                              29\n",
       "Dravida Munnetra Kazhagam                                                 22\n",
       "Telugu Desam - TDP                                                        16\n",
       "Janata Dal United(JDU                                                     12\n",
       "Shiv Sena (Uddhav Balasaheb Thackrey) - SHSUBT                             9\n",
       "Nationalist Congress Party – Sharadchandra Pawar - NCPSP                   8\n",
       "Shiv Sena - SHS                                                            7\n",
       "Independent - IND                                                          7\n",
       "Lok Janshakti Party(Ram Vilas) - LJPRV                                     5\n",
       "rjd                                                                        4\n",
       "Yuvajana Sramika Rythu Congress Party - YSRCP                              4\n",
       "Communist Party of India (Marxist) - CPI(M)                                4\n",
       "jmm                                                                        3\n",
       "Aam Aadmi Party(AAP)                                                       3\n",
       "Communist Party of India - CPI                                             2\n",
       "Viduthalai Chiruthaigal Katchi -  VCK                                      2\n",
       "Rashtriya Lok Dal                                                          2\n",
       "janasena                                                                   2\n",
       "Indian Union Muslim League - IUML                                          2\n",
       "Communist Party of India (Marxist-Leninist) (Liberation) - CPI(ML)(L)      2\n",
       "Janata Dal (Secular) - JD(S)                                               2\n",
       "Jammu & Kashmir National Conference - JK                                   2\n",
       "Indian Union Muslim League - Indian Union Muslim League - IUML             1\n",
       "AJSU Party - AJSUP                                                         1\n",
       "Aazad Samaj Party (Kanshi Ram) - ASPKR                                     1\n",
       "Apna Dal (Soneylal) - ADAL                                                 1\n",
       "United People’s Party, Liberal - UPPL                                      1\n",
       "All India Majlis-E-Ittehadul Muslimeen - AIMIM                             1\n",
       "Marumalarchi Dravida Munnetra Kazhagam - MDMK                              1\n",
       "Hindustani Awam Morcha (Secular) - HAMS                                    1\n",
       "Sikkim Krantikari Morcha - SKM                                             1\n",
       "Kerala Congress - KEC                                                      1\n",
       "Rashtriya Loktantrik Party - RLTP                                          1\n",
       "Bharat Adivasi Party - BHRTADVSIP                                          1\n",
       "Shiromani Akali Dal - SAD                                                  1\n",
       "Zoram People’s Movement - ZPM                                              1\n",
       "Voice of the People Party - VOTPP                                          1\n",
       "Nationalist Congress Party - NCP                                           1\n",
       "Revolutionary Socialist Party - RSP                                        1\n",
       "Asom Gana Parishad (AGP)                                                   1\n",
       "Name: count, dtype: int64"
      ]
     },
     "execution_count": 14,
     "metadata": {},
     "output_type": "execute_result"
    }
   ],
   "source": [
    "results['Party Name'].value_counts()"
   ]
  },
  {
   "cell_type": "code",
   "execution_count": 22,
   "id": "eb1c5e51",
   "metadata": {},
   "outputs": [],
   "source": [
    "results.to_csv('results2024.csv', index=False)"
   ]
  },
  {
   "cell_type": "code",
   "execution_count": null,
   "id": "975c8f8e",
   "metadata": {},
   "outputs": [],
   "source": []
  }
 ],
 "metadata": {
  "kernelspec": {
   "display_name": "Python 3 (ipykernel)",
   "language": "python",
   "name": "python3"
  },
  "language_info": {
   "codemirror_mode": {
    "name": "ipython",
    "version": 3
   },
   "file_extension": ".py",
   "mimetype": "text/x-python",
   "name": "python",
   "nbconvert_exporter": "python",
   "pygments_lexer": "ipython3",
   "version": "3.11.5"
  }
 },
 "nbformat": 4,
 "nbformat_minor": 5
}
